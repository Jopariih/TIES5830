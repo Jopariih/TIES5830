{
 "cells": [
  {
   "cell_type": "markdown",
   "metadata": {},
   "source": [
    "# Reformatting the Excel: Assumptions and stuff\n",
    "* Copied only vital information for the data generation.\n",
    "* Everything is in its own cell, so easy to import into a pandas dataframe. \n",
    "* Study number five (Jorge, 2015) had measurements for 6- and 12-week checkpoints for Pain, Function and QoL. Only 12 was added to the new excel, since assumedly that is the duration of the treatment/therapy. \n",
    "\n",
    "* Age:\n",
    "    * several different \"value types\" in paranthesis\n",
    "    * for some there is the +/- notation: not sure what that means. Need to assume something but what?\n",
    "    * for those cells with input like 71.9 (69.3, 74.6), in the paranthesis seems to be the 95% CI (only checked Cheung paper)\n",
    "    * for some there is mean (SD) notation used, SD being standard deviation\n",
    "* BMI: \n",
    "    * same issues as with age\n",
    "* Study participants/subjects:\n",
    "    * for simplicity's sake, it was assumed that all participants finished the therapies/participating in the study. (In reality this is not true, but cutting corners here a little bit, this is already getting out of hand)\n",
    "* Pain levels:\n",
    "    * only the womac score included\n",
    "    * unless otherwise mentioned, it was assumed that the score was 0-20\n",
    "    * notice: not all were in the same scale, so needed to scale\n",
    "    * WOMAC (35 pain) don't know what this means and can't get access to the article to check so not doing anything to the values\n",
    "    * 'changes' was interpreted to mean how much the original womac value changed, so the 'after' value would baseline+change.\n",
    "* Functionality\n",
    "    * can't get access to check what womac fc 85 means so leaving that as is (since googling didn't help either)\n",
    "* QoL\n",
    "    * different tests were used to test quality of life. If the scales were same, it was assumemd that they are comparable as is. \n",
    "    * everything was scaled to 0-100\n",
    "    * assuming that NHP emotional reaction is scaled from 0-100\n",
    "    * should maybe check if all scores are the \"same order\", like 0 is worst in all and 100 best. (Because for example for NHP: \"the total score for each domain is 100 where a score of 0 indicates good subjective health status and 100 indicates poor subjective health status.\" and I think SF-36 might use the scale the other way, 0 being worst and 100 being best)\n",
    "    * Also for one paper there is no values, what should be done with that? (marked in grey)\n",
    "\n",
    "\n",
    "Color coding for the half finished table: \n",
    "    * pink: need to somehow turn values into standard deviation\n",
    "    * green: need to find out what mm means and turn the value into scores (need to read the source paper)\n",
    "    * grey: no baseline values, only change.\n",
    "\n",
    "**Question: If need to scale a point score, can the standard deviation be scaled with same logic? 'Cause I did :D**\n",
    "\n",
    "\n",
    "* Group\n",
    "    * Used 1-exercise and 0- control\n",
    "\n",
    "\n",
    "_TODO: add table columns and explain them_"
   ]
  },
  {
   "cell_type": "code",
   "execution_count": 4,
   "metadata": {},
   "outputs": [],
   "source": [
    "# %pip install desdeo"
   ]
  },
  {
   "cell_type": "markdown",
   "metadata": {},
   "source": [
    "# _Week 1:_ Data generation\n",
    "* Find a method that can generate artificial data based on mean and variance\n",
    "* If a method cannot be found, need to assume distriubtion\n",
    "    * Example of normally distributed data generation below (with mean and variance)\n",
    "    * Compare that to some existing data (if there is such) \n",
    "        * if looks good, run with it\n",
    "        * but what if it does not look good? And if there is existing data, wouldn't it be easier to generate synthetic data based on that? There's ways to generate \"anonymous\" (synthetic) data from existing patient information, so that no patient confidiality is broken."
   ]
  },
  {
   "cell_type": "code",
   "execution_count": 13,
   "metadata": {},
   "outputs": [
    {
     "data": {
      "image/png": "[encoded data removed]",
      "text/plain": [
       "<Figure size 640x480 with 1 Axes>"
      ]
     },
     "metadata": {},
     "output_type": "display_data"
    }
   ],
   "source": [
    "# Just an example on how to generate normally distributed data with mean and variance.\n",
    "\n",
    "from math import sqrt\n",
    "import numpy as np\n",
    "import matplotlib.pyplot as plt\n",
    "\n",
    "# Generating data following the normal distrubution\n",
    "variance = 40  # just an example value\n",
    "standard_deviation = sqrt(variance)  # Standard deviation is the square root of the variance\n",
    "mean = 0 # another example value\n",
    "n = 100000  # the amount of samples to be generated\n",
    "\n",
    "values = np.random.normal(mean, standard_deviation, n)\n",
    "\n",
    "plt.hist(values, bins=30)\n",
    "plt.show() "
   ]
  },
  {
   "cell_type": "code",
   "execution_count": 16,
   "metadata": {},
   "outputs": [
    {
     "name": "stdout",
     "output_type": "stream",
     "text": [
      "Collecting openpyxl\n",
      "  Downloading openpyxl-3.1.2-py2.py3-none-any.whl (249 kB)\n",
      "     ------------------------------------ 250.0/250.0 KB 959.0 kB/s eta 0:00:00\n",
      "Collecting et-xmlfile\n",
      "  Downloading et_xmlfile-1.1.0-py3-none-any.whl (4.7 kB)\n",
      "Installing collected packages: et-xmlfile, openpyxl\n",
      "Successfully installed et-xmlfile-1.1.0 openpyxl-3.1.2\n",
      "Note: you may need to restart the kernel to use updated packages.\n"
     ]
    },
    {
     "name": "stderr",
     "output_type": "stream",
     "text": [
      "WARNING: You are using pip version 22.0.4; however, version 24.0 is available.\n",
      "You should consider upgrading via the 'c:\\Users\\omistaja\\AppData\\Local\\Programs\\Python\\Python310\\python.exe -m pip install --upgrade pip' command.\n"
     ]
    }
   ],
   "source": [
    "%pip install openpyxl"
   ]
  },
  {
   "cell_type": "markdown",
   "metadata": {},
   "source": [
    "## Need to generate data for\n",
    "* Age\n",
    "* BMI\n",
    "* Pain (baseline)\n",
    "*  Physical Functionality (baseline)\n",
    "* QoL (baseline)\n",
    "* Pain (after intervention)\n",
    "* Physical Functionality (after intervention)\n",
    "* QoL (after intervention)"
   ]
  },
  {
   "cell_type": "markdown",
   "metadata": {},
   "source": [
    "Tried importing the data as df below for easy access, won't really work, too messy. Will get cleaner results if do by hand"
   ]
  },
  {
   "cell_type": "code",
   "execution_count": 74,
   "metadata": {},
   "outputs": [],
   "source": [
    "import pandas as pd\n",
    "\n",
    "# Importing the data\n",
    "# df = pd.read_excel('KneeOA-selected-QoL.xlsx')\n"
   ]
  },
  {
   "cell_type": "code",
   "execution_count": 73,
   "metadata": {},
   "outputs": [
    {
     "data": {
      "text/plain": [
       "{'reference': 'An'}"
      ]
     },
     "execution_count": 73,
     "metadata": {},
     "output_type": "execute_result"
    }
   ],
   "source": []
  },
  {
   "cell_type": "markdown",
   "metadata": {},
   "source": []
  },
  {
   "cell_type": "markdown",
   "metadata": {},
   "source": [
    "# _Week 2:_ Surrogates"
   ]
  },
  {
   "cell_type": "code",
   "execution_count": null,
   "metadata": {},
   "outputs": [],
   "source": []
  },
  {
   "cell_type": "markdown",
   "metadata": {},
   "source": [
    "# _Week 3:_ Problem formulation "
   ]
  },
  {
   "cell_type": "code",
   "execution_count": null,
   "metadata": {},
   "outputs": [],
   "source": []
  },
  {
   "cell_type": "markdown",
   "metadata": {},
   "source": [
    "### Preferences provided by the DM \n",
    "Acceptable minimum and maximum ranges for the objectives\n",
    "\n",
    "| |Costs (€) | Pain change (%) | Function change (%) | Supervised sessions | Period (weeks) |\n",
    "| -------|------------|------------------|----------------------|----------------------|----------------|\n",
    "| Iteration 1 | 300 | +30% | +25% | 0 | 8 |\n",
    "| | 600 | +15% | +15% | 15 | 26 |\n",
    "| Iteration 2  | 200 | +25% | +40% | 0 | 12 |\n",
    "| | 500 | +15% | +15% | 30 | 26 |\n"
   ]
  },
  {
   "cell_type": "code",
   "execution_count": 3,
   "metadata": {},
   "outputs": [],
   "source": []
  }
 ],
 "metadata": {
  "kernelspec": {
   "display_name": "Python 3",
   "language": "python",
   "name": "python3"
  },
  "language_info": {
   "codemirror_mode": {
    "name": "ipython",
    "version": 3
   },
   "file_extension": ".py",
   "mimetype": "text/x-python",
   "name": "python",
   "nbconvert_exporter": "python",
   "pygments_lexer": "ipython3",
   "version": "3.10.4"
  },
  "orig_nbformat": 4
 },
 "nbformat": 4,
 "nbformat_minor": 2
}
