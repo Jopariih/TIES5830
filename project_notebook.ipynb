{
 "cells": [
  {
   "cell_type": "code",
   "execution_count": 4,
   "metadata": {},
   "outputs": [],
   "source": [
    "# %pip install desdeo"
   ]
  },
  {
   "cell_type": "markdown",
   "metadata": {},
   "source": [
    "# Importing the data\n",
    "Need to turn the data table into computer readable form. Maybe a pandas dataframe?"
   ]
  },
  {
   "cell_type": "code",
   "execution_count": null,
   "metadata": {},
   "outputs": [],
   "source": [
    "# Code here"
   ]
  },
  {
   "cell_type": "markdown",
   "metadata": {},
   "source": [
    "# Problem object formulation\n",
    "Implement the problem object based on the data. We need to \n",
    "* create variables\n",
    "* create the objective functions\n",
    "* create the constraint\n",
    "* stuff it all into the MOProblem object thingie\n",
    "* calculate ideal and nadir to show to the imaginary DM"
   ]
  },
  {
   "cell_type": "code",
   "execution_count": 2,
   "metadata": {},
   "outputs": [],
   "source": [
    "import desdeo\n",
    "\n",
    "# TODO: his could maybe be divided into more cells\n",
    "# Variables\n",
    "# Objectives\n",
    "# Constraints\n",
    "# Forming the objective function"
   ]
  },
  {
   "cell_type": "code",
   "execution_count": null,
   "metadata": {},
   "outputs": [],
   "source": [
    "# Ideal and nadir"
   ]
  },
  {
   "cell_type": "markdown",
   "metadata": {},
   "source": [
    "# Choosing a method \n",
    "We need to do some trickery here (I think) since the preference information is provided as ranges, not precise points. I'm not sure if the preference can be given as a range to the desdeo preference point method. "
   ]
  },
  {
   "cell_type": "code",
   "execution_count": null,
   "metadata": {},
   "outputs": [],
   "source": []
  },
  {
   "cell_type": "markdown",
   "metadata": {},
   "source": [
    "# Preferences provided by the DM \n",
    "Acceptable minimum and maximum ranges for the objectives\n",
    "\n",
    "| |Costs (€) | Pain change (%) | Function change (%) | Supervised sessions | Period (weeks) |\n",
    "| -------|------------|------------------|----------------------|----------------------|----------------|\n",
    "| Iteration 1 | 300 | +30% | +25% | 0 | 8 |\n",
    "| | 600 | +15% | +15% | 15 | 26 |\n",
    "| Iteration 2  | 200 | +25% | +40% | 0 | 12 |\n",
    "| | 500 | +15% | +15% | 30 | 26 |\n"
   ]
  },
  {
   "cell_type": "code",
   "execution_count": 3,
   "metadata": {},
   "outputs": [],
   "source": []
  }
 ],
 "metadata": {
  "kernelspec": {
   "display_name": "Python 3",
   "language": "python",
   "name": "python3"
  },
  "language_info": {
   "codemirror_mode": {
    "name": "ipython",
    "version": 3
   },
   "file_extension": ".py",
   "mimetype": "text/x-python",
   "name": "python",
   "nbconvert_exporter": "python",
   "pygments_lexer": "ipython3",
   "version": "3.10.4"
  },
  "orig_nbformat": 4
 },
 "nbformat": 4,
 "nbformat_minor": 2
}
