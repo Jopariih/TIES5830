{
 "cells": [
  {
   "cell_type": "markdown",
   "metadata": {},
   "source": [
    "# Reformatting the Excel: Assumptions and stuff\n",
    "* Copied only vital information for the data generation.\n",
    "* Everything is in its own cell, so easy to import into a pandas dataframe. \n",
    "* Study number five (Jorge, 2015) had measurements for 6- and 12-week checkpoints for Pain, Function and QoL. Only 12 was added to the new excel, since assumedly that is the duration of the treatment/therapy. \n",
    "* O'Reilly paper was removed since they reported only the change in QoL, not the actual baseline value. Can't calculate the percentages based on just that.\n",
    "* Fransen paper has reported the WOMAC scores as inverse, so 0 represents the worst status and 100 the best. Might be that others have done that too \n",
    "    * _The WOMAC scores were reverse scored (100 = no pain\n",
    "or difficulty, 0 = extreme pain or difficulty), so that for all outcome measures higher scores are better scores._ https://www.jrheum.org/content/jrheum/28/1/156.full.pdf (That has been adjusted to the project_excel)\n",
    "\n",
    "\n",
    "\n",
    "\n",
    "* Group:\n",
    "    * Used 1 - exercise and 0 - control because it is also using in the objective functions\n",
    "\n",
    "* No of sessions:\n",
    "    * Also added because it is using in the objective functions\n",
    "    * 0 used for control assuming control fact do not have any sessions\n",
    "\n",
    "* Age:\n",
    "    * several different \"value types\" in paranthesis\n",
    "    * for some there is the +/- notation: not sure what that means. Need to assume something but what?\n",
    "    * for those cells with input like 71.9 (69.3, 74.6), in the paranthesis seems to be the 95% CI (only checked Cheung paper)\n",
    "    * for some there is mean (SD) notation used, SD being standard deviation\n",
    "    * According to the Wallis paper age structure may be Age_Mean_value (Age_SD)\n",
    "    * According to the Evcik paper the +/- notation follows SD\n",
    "    * There is a problem with entering decimal numbers. So I replaced . with , and changed the font color in red\n",
    "\n",
    "* BMI: \n",
    "    * same issues as with age\n",
    "\n",
    "\n",
    "* Study participants/subjects:\n",
    "    * for simplicity's sake, it was assumed that all participants finished the therapies/participating in the study. (In reality this is not true, but cutting corners here a little bit, this is already getting out of hand)\n",
    "\n",
    "    * Do we need to keep Male and Female separate?  - _I don't think so. The information is not used in any of the objectives or in the data later, all the numbers are for the genders combined. Ideally, we should take the gender into account, but I think it is just complicating matters at this point. -J_\n",
    "\n",
    "* Pain levels:\n",
    "    * only the womac score included\n",
    "    * unless otherwise mentioned, it was assumed that the score was 0-20\n",
    "    * notice: not all were in the same scale, so needed to scale\n",
    "    * WOMAC (35 pain) don't know what this means and can't get access to the article to check so not doing anything to the values\n",
    "    * 'changes' was interpreted to mean how much the original womac value changed, so the 'after' value would baseline+change.\n",
    "\n",
    "\n",
    "* Functionality\n",
    "    * can't get access to check what womac fc 85 means so leaving that as is (since googling didn't help either)\n",
    "\n",
    "    \n",
    "* QoL\n",
    "    * different tests were used to test quality of life. If the scales were same, it was assumemd that they are comparable as is. \n",
    "    * everything was scaled to 0-100\n",
    "    * assuming that NHP emotional reaction is scaled from 0-100\n",
    "    * should maybe check if all scores are the \"same order\", like 0 is worst in all and 100 best. (Because for example for NHP: \"the total score for each domain is 100 where a score of 0 indicates good subjective health status and 100 indicates poor subjective health status.\" and I think SF-36 might use the scale the other way, 0 being worst and 100 being best)\n",
    "        * assuming 100 is the best score and 0 the worst\n",
    "        * I inversed the last study's QoL scores since they were the wrong way around (0 being the best and 100 worst) \n",
    "        * assuming others are OK, since the numbers make sense (they are rising after intervention/with time)\n",
    "    * Also for one paper there is no values, what should be done with that? (marked in grey) \n",
    "        * _This study has been dropped._\n",
    "    * **In the final report we shouold mention that several different metrics were used and that they might not be comparable**\n",
    "        * Although in theory, since we are comparing the change (or the percentage of improvement), they might not be that different?\n",
    "\n",
    "\n",
    "Color coding for the half finished table: \n",
    "* pink: need to somehow turn values into standard deviation\n",
    "* green: need to find out what mm means and turn the value into scores (need to read the source paper)\n",
    "\n",
    "\n",
    "\n",
    "_TODO: add table columns and explain them_"
   ]
  },
  {
   "cell_type": "code",
   "execution_count": 69,
   "metadata": {},
   "outputs": [],
   "source": [
    "# %pip install desdeo"
   ]
  },
  {
   "cell_type": "markdown",
   "metadata": {},
   "source": [
    "# _Week 1:_ Data generation\n",
    "* Find a method that can generate artificial data based on mean and variance\n",
    "* If a method cannot be found, need to assume distriubtion\n",
    "    * Example of normally distributed data generation below (with mean and variance)\n",
    "    * Compare that to some existing data (if there is such) \n",
    "        * if looks good, run with it\n",
    "        * but what if it does not look good? And if there is existing data, wouldn't it be easier to generate synthetic data based on that? There's ways to generate \"anonymous\" (synthetic) data from existing patient information, so that no patient confidiality is broken."
   ]
  },
  {
   "cell_type": "code",
   "execution_count": 70,
   "metadata": {},
   "outputs": [
    {
     "data": {
      "image/png": "[encoded data removed]",
      "text/plain": [
       "<Figure size 640x480 with 1 Axes>"
      ]
     },
     "metadata": {},
     "output_type": "display_data"
    }
   ],
   "source": [
    "# Just an example on how to generate normally distributed data with mean and variance.\n",
    "\n",
    "from math import sqrt\n",
    "import numpy as np\n",
    "import matplotlib.pyplot as plt\n",
    "\n",
    "# Generating data following the normal distrubution\n",
    "variance = 40  # just an example value\n",
    "standard_deviation = sqrt(variance)  # Standard deviation is the square root of the variance\n",
    "mean = 0 # another example value\n",
    "n = 100000  # the amount of samples to be generated\n",
    "\n",
    "values = np.random.normal(mean, standard_deviation, n)\n",
    "\n",
    "plt.hist(values, bins=30)\n",
    "plt.show() "
   ]
  },
  {
   "cell_type": "code",
   "execution_count": 71,
   "metadata": {},
   "outputs": [],
   "source": [
    "# %pip install openpyxl"
   ]
  },
  {
   "cell_type": "markdown",
   "metadata": {},
   "source": [
    "## Need to generate data for\n",
    "* Age \n",
    "    * assumption: distribution probably skewed to the older side, since it is knee OA (older people more likely to have it)\n",
    "    * modeled as normal distribution, should maybe skew it a bit to the older side?\n",
    "* BMI \n",
    "    * Knee osteoarthiritis and bmi connected, could use that information?  https://www.sciencedirect.com/science/article/abs/pii/S1297319X11001370\n",
    "    * modeled as a normal distribution, should skew it somehow maybe?\n",
    "* Pain (baseline)\n",
    "    * modeled as normal distribution for now (same for all the rest - should probably think more)\n",
    "* Physical Functionality (baseline)\n",
    "* QoL (baseline)\n",
    "* Pain (after intervention)\n",
    "* Physical Functionality (after intervention)\n",
    "* QoL (after intervention)"
   ]
  },
  {
   "cell_type": "code",
   "execution_count": 72,
   "metadata": {},
   "outputs": [],
   "source": [
    "# Importing the data\n",
    "import pandas as pd\n",
    "\n",
    "# Importing the excel into a dataframe\n",
    "df = pd.read_excel('project_excel.xlsx', index_col='reference')"
   ]
  },
  {
   "cell_type": "markdown",
   "metadata": {},
   "source": [
    "## Data generation: normally distributed\n",
    "\n",
    "All generated data is stored in a dictionary, where the first column in excel (or the df index row) is the key and its value is another dataframe of the form \n",
    "\n",
    "\n",
    "{ <br>\n",
    "        'age': data_age, <br>\n",
    "        'bmi': data_bmi, <br>\n",
    "        'patients_num': num_of_participants,<br>\n",
    "        'pain_before': pain_before_data,<br>\n",
    "        'pain_after': pain_after_data,<br>\n",
    "        'functionality_before': func_before_data,<br>\n",
    "        'functionality_after': func_after_data,<br>\n",
    "        'QoL_before': qol_before_data,<br>\n",
    "        'QoL_after': qol_after_data<br>\n",
    "}\n",
    "\n",
    "\n",
    "*If we have time to do another version of the data generation, that could probably be done with just copy pasting this version.*\n",
    "\n"
   ]
  },
  {
   "cell_type": "markdown",
   "metadata": {},
   "source": [
    "Reminder: \n",
    " * pain on scale 0-20 (0 meaning no pain and being the best value)\n",
    "    * so pain_after should be assumed to be smaller than pain_before and calculating the percentage as (before-after)/before * 100\n",
    " * function 0-68 (0 being the best)\n",
    "    * percentage calculated as above\n",
    " * QoL on scale 0-100, the bigger the better.\n",
    "    * value is assumed to get higher after intervention/with time, so calculating the percentage as (after-before)/before * 100\n",
    "\n",
    "*Note: If the percentage values are negative, it means the improvement has been negative.*"
   ]
  },
  {
   "cell_type": "code",
   "execution_count": 73,
   "metadata": {},
   "outputs": [],
   "source": [
    "# Function that takes the whole column as input, divides it into pairs with the relevant mean and std \n",
    "# except the number of participants in the study is just an integer.\n",
    "# Then generates the data based on the above distributions and returns it in a dictionary \n",
    "def generate_data(info):\n",
    "    age = (info['age_mean'], info['age_std'])\n",
    "    bmi = (info['bmi_mean'], info['bmi_std'])\n",
    "    num_of_participants = int(info['num_of_subjects'])\n",
    "    pain_before = (info['pain_before_mean'], info['pain_before_std'])\n",
    "    pain_after = (info['pain_after_mean'], info['pain_after_std'])\n",
    "    func_before = (info['func_before_mean'], info['func_before_std'])\n",
    "    func_after = (info['func_after_mean'], info['func_after_std'])\n",
    "    qol_before = (info['QoL_before_mean'], info['QoL_before_std'])\n",
    "    qol_after = (info['QoL_after_mean'], info['QoL_after_std'])\n",
    "\n",
    "    # Generating the data\n",
    "    data_age = np.random.normal(age[0], age[1], num_of_participants)\n",
    "    data_bmi = np.random.normal(bmi[0], bmi[1], num_of_participants)\n",
    "    pain_before_data = np.random.normal(pain_before[0], pain_before[1], num_of_participants)\n",
    "    pain_after_data = np.random.normal(pain_after[0], pain_after[1], num_of_participants)\n",
    "    func_before_data = np.random.normal(func_before[0], func_before[1], num_of_participants)\n",
    "    func_after_data = np.random.normal(func_after[0], func_after[1], num_of_participants)\n",
    "    qol_before_data = np.random.normal(qol_before[0], qol_before[1], num_of_participants)\n",
    "    qol_after_data = np.random.normal(qol_after[0], qol_after[1], num_of_participants)\n",
    "\n",
    "    # Calculating the improvement percent for each patient (pain, function and QoL)\n",
    "    pain_improvement = (pain_before_data - pain_after_data)/pain_before_data * 100\n",
    "    func_improvement = (func_before_data - func_after_data)/func_before_data * 100\n",
    "    qol_improvement = (qol_after_data - qol_before_data)/qol_before_data * 100\n",
    "\n",
    "    return {\n",
    "        'age': data_age,\n",
    "        'bmi': data_bmi,\n",
    "        'patients_num': num_of_participants,\n",
    "        'pain_before': pain_before_data,\n",
    "        'pain_after': pain_after_data,\n",
    "        'pain_improvement': pain_improvement,\n",
    "        'func_before': func_before_data,\n",
    "        'func_after': func_after_data,\n",
    "        'func_improvement': func_improvement,\n",
    "        'QoL_before': qol_before_data,\n",
    "        'QoL_after': qol_after_data,\n",
    "        'QoL_improvement': qol_improvement\n",
    "    }\n",
    "    "
   ]
  },
  {
   "cell_type": "code",
   "execution_count": 74,
   "metadata": {},
   "outputs": [],
   "source": [
    "# A function for creating csv files for each exercise and control group\n",
    "import csv\n",
    "import os\n",
    "\n",
    "def write_to_csv(data, filename, folder):\n",
    "    os.makedirs(folder, exist_ok=True)\n",
    "    filepath = os.path.join(folder, filename)\n",
    "\n",
    "    with open(filepath, 'w', newline='') as csvfile:\n",
    "        writer = csv.writer(csvfile)\n",
    "        writer.writerow(['age', 'bmi', 'pain_before', 'pain_after', 'pain_improvement',\n",
    "                         'func_before', 'func_after', 'func_improvement', 'QoL_before', 'QoL_after', 'QoL_improvement'])\n",
    "    \n",
    "        for i in range(data['patients_num']):\n",
    "            writer.writerow([data['age'][i], data['bmi'][i], \n",
    "                             data['pain_before'][i], data['pain_after'][i], data['pain_improvement'][i], \n",
    "                             data['func_before'][i], data['func_after'][i], data['func_improvement'][i], \n",
    "                             data['QoL_before'][i], data['QoL_after'][i], data['QoL_improvement'][i]])\n"
   ]
  },
  {
   "cell_type": "code",
   "execution_count": 75,
   "metadata": {},
   "outputs": [],
   "source": [
    "# This piece of code generates the data. Now commented because it obviously overwrites the csv files each run\n",
    "# and we do not wish to do that each time. \n",
    "# TODO: At some point, need to make better data because this one will not work well. (See PROBLEMS below)\n",
    "\n",
    "# This is the folder where the data is stuffed. The folder doesn't have to exist, \n",
    "# if it does not exist, the folder will be created\n",
    "folder = 'data_initial'\n",
    "\n",
    "synthetic_data_dict = {} # Storing all generated data here\n",
    "for index, row in df.iterrows():\n",
    "    # Generating data for each row in the df and adding that to the dict with the row index being the key\n",
    "    synthetic_data_dict[index] = generate_data(row)\n",
    "    filename = f\"data_{index}.csv\"\n",
    "    write_to_csv(synthetic_data_dict[index], filename, folder)"
   ]
  },
  {
   "cell_type": "markdown",
   "metadata": {},
   "source": [
    "# <span style=\"color:red\">PROBLEMS</span>\n",
    "* Negative values in the objective function datas, that should not be allowed to happen since the values aren't realistic.\n",
    "* Improvement rates are bloody ridiculous, they are not realistic at all. I think it is because of the negative values in the data, they are messing with the improvement calculations. Need to weed out the negative values and perhaps introduce some sort of correlation between the before and after levels."
   ]
  },
  {
   "cell_type": "code",
   "execution_count": 76,
   "metadata": {},
   "outputs": [],
   "source": [
    "# Importing the data from csv files into dataframes"
   ]
  },
  {
   "cell_type": "markdown",
   "metadata": {},
   "source": [
    "# _Week 2:_ Surrogates\n",
    "\n",
    "*Should probably choose at least 2, maybe even 3 or 4 and do some analysis on those so we can find out which works the best.*\n",
    "- Chosen surrogates for further evaluation and testing:\n",
    "    - SVM \n",
    "    - \n",
    "    -\n",
    "    "
   ]
  },
  {
   "cell_type": "markdown",
   "metadata": {},
   "source": []
  },
  {
   "cell_type": "code",
   "execution_count": null,
   "metadata": {},
   "outputs": [],
   "source": []
  },
  {
   "cell_type": "markdown",
   "metadata": {},
   "source": [
    "# _Week 3:_ Problem formulation "
   ]
  },
  {
   "cell_type": "code",
   "execution_count": null,
   "metadata": {},
   "outputs": [],
   "source": []
  },
  {
   "cell_type": "markdown",
   "metadata": {},
   "source": [
    "### Preferences provided by the DM \n",
    "Acceptable minimum and maximum ranges for the objectives\n",
    "\n",
    "| |Costs (€) | Pain change (%) | Function change (%) | Supervised sessions | Period (weeks) |\n",
    "| -------|------------|------------------|----------------------|----------------------|----------------|\n",
    "| Iteration 1 | 300 | +30% | +25% | 0 | 8 |\n",
    "| | 600 | +15% | +15% | 15 | 26 |\n",
    "| Iteration 2  | 200 | +25% | +40% | 0 | 12 |\n",
    "| | 500 | +15% | +15% | 30 | 26 |\n"
   ]
  },
  {
   "cell_type": "code",
   "execution_count": null,
   "metadata": {},
   "outputs": [],
   "source": []
  }
 ],
 "metadata": {
  "kernelspec": {
   "display_name": "Python 3",
   "language": "python",
   "name": "python3"
  },
  "language_info": {
   "codemirror_mode": {
    "name": "ipython",
    "version": 3
   },
   "file_extension": ".py",
   "mimetype": "text/x-python",
   "name": "python",
   "nbconvert_exporter": "python",
   "pygments_lexer": "ipython3",
   "version": "3.10.4"
  },
  "orig_nbformat": 4
 },
 "nbformat": 4,
 "nbformat_minor": 2
}
